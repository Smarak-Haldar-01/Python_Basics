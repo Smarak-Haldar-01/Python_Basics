{
 "cells": [
  {
   "cell_type": "markdown",
   "metadata": {},
   "source": [
    "# Python Basics Questions"
   ]
  },
  {
   "cell_type": "markdown",
   "metadata": {},
   "source": [
    "1.  What is Python, and why is it popular ?\n",
    "\n",
    "A:  Python is an open source, compiled and interpreted, scripting as well as Object Oriented general purpose programming language.\n",
    "\n",
    "    Python is popular due to its huge library support for different fields such as Machine Learning, Deep Learning, Website Building, Data analytics and much more.\n",
    "__________________________________________________________________________________________________________________________________________________\n",
    "\n",
    "2.  What is an interpreter in Python ?\n",
    "\n",
    "A:  An Interpreter in python is a special program by which python runs and checks its pyc files to generate the result of another program written\n",
    "    in python.\n",
    "__________________________________________________________________________________________________________________________________________________\n",
    "\n",
    "3.  What are pre-defined keywords in Python ?\n",
    "\n",
    "A:  Pre-defined keywords in python are special words which has a special meaning to the compiler and interpreter of python to perform a specific\n",
    "    task.\n",
    "__________________________________________________________________________________________________________________________________________________\n",
    "\n",
    "4.  Can keywords be used as variable names ?\n",
    "\n",
    "A:  No, as keywords has some specific symbols to the compiler and interpreter thus they cannot be used as variables.\n",
    "__________________________________________________________________________________________________________________________________________________\n",
    "\n",
    "5. What is mutability in Python ?\n",
    "\n",
    "A: Mutabiity in python means that a specific data set or element can be modified or changed after their declaretion.\n",
    "__________________________________________________________________________________________________________________________________________________\n",
    "\n",
    "6.  Why are lists mutable, but tuples are immutable ?\n",
    "\n",
    "A:  There was a vital need in python for assuring data integrity, which was missing in lists as a list can be modified after declaretion, so to\n",
    "    avoid this mutibiity scenario Python developers later relased tuples, which is immutable meaning they cannot be changed once declared, which then solved the data integrity problem with lists.\n",
    "__________________________________________________________________________________________________________________________________________________\n",
    "\n",
    "7.  What is the difference between “==” and “is” operators in Python ?\n",
    "\n",
    "A:  \"==\" is used to check wheather two values are equal or not, whereas \"is\" operator is used to check wheather the values are equal as well as\n",
    "    it checks wheather their memory locations are same or not.\n",
    "__________________________________________________________________________________________________________________________________________________\n",
    "\n",
    "8.  What are logical operators in Python ?\n",
    "\n",
    "A:  Logical Operators are a special type of operators used as a condition, using two boolean value returning terms.\n",
    "\n",
    "    There are three types of logical operators in python :\n",
    "    a. not \n",
    "    A   |   O\n",
    "    0       1\n",
    "    1       0\n",
    "\n",
    "    b. and\n",
    "    A   |   B   |  O\n",
    "    0       0      0\n",
    "    0       1      0\n",
    "    1       0      0\n",
    "    1       1      1\n",
    "\n",
    "    c. or\n",
    "    A   |   B   |   O\n",
    "    0       0       0\n",
    "    0       1       1\n",
    "    1       0       1\n",
    "    1       1       1\n",
    "__________________________________________________________________________________________________________________________________________________\n",
    "\n",
    "9. What is type casting in Python ?\n",
    "\n",
    "A: Type Casting in Python is a way to change the data type of a variable.\n",
    "__________________________________________________________________________________________________________________________________________________\n",
    "\n",
    "10. What is the difference between implicit and explicit type casting ?\n",
    "\n",
    "A:  Implicit type casting is an inbuilt technique in python compiler to change a lower order data type to a higher order data type or to its\n",
    "    equivalent data type for some operations. Whereas explicit type casting is a way to change a data type of higher/lower order to lower/higher order by developers while building the program in python.\n",
    "__________________________________________________________________________________________________________________________________________________\n",
    "\n",
    "11. What is the purpose of conditional statements in Python \n",
    "\n",
    "A:  The purpose of conditional statements in Python is to perform a specific part of code on the basis of satisfying some condition(s).\n",
    "__________________________________________________________________________________________________________________________________________________\n",
    "\n",
    "12. How does the elif statement work ?\n",
    "\n",
    "A:  Whenever the \"if\" block condition fails to be satisfied the immediate next \"elif\" of the \"if\" block gets checked with its condition and if the\n",
    "    condition of that \"elif\" block is truthy then it gets executed or else if it is falsy then the interpretor jumps to the immediate next \"elif\" or \"else\" block and the same mechanisum continues. \n",
    "__________________________________________________________________________________________________________________________________________________\n",
    "\n",
    "13. What is the difference between for and while loops ?\n",
    "\n",
    "A:  In python a for loop acts as an itterator where as while loop works as a repeater of a specific block based on some specific condition. For\n",
    "    loop in python is usually writen with a specific itterator object such as lists, strings, tuples and range and much more, where as while loop is written with a specified condition.\n",
    "\n",
    "    for loop example :\n",
    "\n",
    "    for _ in range(1, 6, 1):\n",
    "        print(\"*\"*_)\n",
    "    \n",
    "    the above loop will print\n",
    "\n",
    "    *\n",
    "    * *\n",
    "    * * *\n",
    "    * * * *\n",
    "    * * * * *\n",
    "\n",
    "    while loop example :\n",
    "\n",
    "    f = 1\n",
    "    i = 5\n",
    "\n",
    "    while i != 0:\n",
    "        f *= i\n",
    "        i -= 1\n",
    "\n",
    "    print(f)\n",
    "\n",
    "    the above loop will print the factorial of 5, that is 120\n",
    "__________________________________________________________________________________________________________________________________________________\n",
    "\n",
    "14. Describe a scenario where a while loop is more suitable than a for loop.\n",
    "\n",
    "A:  The best scenario for preffering a while loop than a for loop is when we need a specific block of code repitation on basis of some conditions \n",
    "    rather than itterating any data structure. \n",
    "__________________________________________________________________________________________________________________________________________________\n"
   ]
  },
  {
   "cell_type": "markdown",
   "metadata": {},
   "source": [
    "# Practical Questions"
   ]
  },
  {
   "cell_type": "code",
   "execution_count": null,
   "metadata": {},
   "outputs": [
    {
     "name": "stdout",
     "output_type": "stream",
     "text": [
      "Hello World\n"
     ]
    }
   ],
   "source": [
    "# 1. Write a Python program to print \"Hello, World!\"\n",
    "\n",
    "print(\"Hello World\")"
   ]
  },
  {
   "cell_type": "code",
   "execution_count": 3,
   "metadata": {},
   "outputs": [
    {
     "name": "stdout",
     "output_type": "stream",
     "text": [
      "Hello I am Smarak, and my age is 21!\n"
     ]
    }
   ],
   "source": [
    "# 2. Write a Python program that displays your name and age\n",
    "\n",
    "print(f\"Hello I am {input()}, and my age is {input()}!\")"
   ]
  },
  {
   "cell_type": "code",
   "execution_count": 4,
   "metadata": {},
   "outputs": [
    {
     "name": "stdout",
     "output_type": "stream",
     "text": [
      "['False', 'None', 'True', 'and', 'as', 'assert', 'async', 'await', 'break', 'class', 'continue', 'def', 'del', 'elif', 'else', 'except', 'finally', 'for', 'from', 'global', 'if', 'import', 'in', 'is', 'lambda', 'nonlocal', 'not', 'or', 'pass', 'raise', 'return', 'try', 'while', 'with', 'yield']\n"
     ]
    }
   ],
   "source": [
    "# 3. Write code to print all the pre-defined keywords in Python using the keyword library.\n",
    "\n",
    "import keyword\n",
    "\n",
    "print(keyword.kwlist)"
   ]
  },
  {
   "cell_type": "code",
   "execution_count": 7,
   "metadata": {},
   "outputs": [
    {
     "name": "stdout",
     "output_type": "stream",
     "text": [
      "True\n",
      "False\n"
     ]
    }
   ],
   "source": [
    "# 4. Write a program that checks if a given word is a Python keyword.\n",
    "\n",
    "import keyword\n",
    "\n",
    "print(keyword.iskeyword('for')) \n",
    "\n",
    "print(keyword.iskeyword('but'))"
   ]
  },
  {
   "cell_type": "code",
   "execution_count": 8,
   "metadata": {},
   "outputs": [
    {
     "name": "stdout",
     "output_type": "stream",
     "text": [
      "1\n",
      "10\n",
      "'tuple' object does not support item assignment\n"
     ]
    }
   ],
   "source": [
    "# 5.  Create a list and tuple in Python, and demonstrate how attempting to change an element works differently for each\n",
    "\n",
    "l = [1, 2, 3, 4]\n",
    "\n",
    "t = (5, 6, 7, 8)\n",
    "\n",
    "print(l[0]) # before changing\n",
    "\n",
    "l[0] = 10\n",
    "\n",
    "print(l[0]) # after changing\n",
    "\n",
    "try:\n",
    "  t[0] = 12 # trying to change the value of the tuple t's first element\n",
    "except Exception as E:\n",
    "  print(E) # will show the error for tuple modification"
   ]
  },
  {
   "cell_type": "code",
   "execution_count": 9,
   "metadata": {},
   "outputs": [
    {
     "name": "stdout",
     "output_type": "stream",
     "text": [
      "4\n",
      "12\n",
      "'str' object does not support item assignment\n"
     ]
    }
   ],
   "source": [
    "# 6.  Write a function to demonstrate the behavior of mutable and immutable arguments\n",
    "\n",
    "string = \"Hello World\"\n",
    "\n",
    "list_of_numbers = [1, 2, 3, 4, 5]\n",
    "\n",
    "print(list_of_numbers[3]) # before changing\n",
    "\n",
    "list_of_numbers[3] = 12\n",
    "\n",
    "print(list_of_numbers[3]) # after changing\n",
    "\n",
    "try:\n",
    "  string[0] = 'L' # trying to change the value of the str string\n",
    "except Exception as E:\n",
    "  print(E) # will show the error for string modification"
   ]
  },
  {
   "cell_type": "code",
   "execution_count": 10,
   "metadata": {},
   "outputs": [
    {
     "name": "stdout",
     "output_type": "stream",
     "text": [
      "Addition : 5 + 10 = 15\n",
      "Subtraction : 5 - 10 = -5\n",
      "Multiplication : 5 x 10 = 50\n",
      "Division 1 : 5 / 10 = 0.5\n",
      "Division 2 : 5 // 10 = 0\n",
      "Power : 5 ^ 10 = 9765625\n",
      "Remainder : 5 % 10 = 5\n"
     ]
    }
   ],
   "source": [
    "# 7. Write a program that performs basic arithmetic operations on two user-input numbers.\n",
    "\n",
    "num1 = int(input())\n",
    "\n",
    "num2 = int(input())\n",
    "\n",
    "print(f\"Addition : {num1} + {num2} = {num1 + num2}\")\n",
    "\n",
    "print(f\"Subtraction : {num1} - {num2} = {num1 - num2}\")\n",
    "\n",
    "print(f\"Multiplication : {num1} x {num2} = {num1 * num2}\")\n",
    "\n",
    "print(f\"Division 1 : {num1} / {num2} = {num1 / num2}\")\n",
    "\n",
    "print(f\"Division 2 : {num1} // {num2} = {num1 // num2}\")\n",
    "\n",
    "print(f\"Power : {num1} ^ {num2} = {num1 ** num2}\")\n",
    "\n",
    "print(f\"Remainder : {num1} % {num2} = {num1 % num2}\")"
   ]
  },
  {
   "cell_type": "code",
   "execution_count": null,
   "metadata": {},
   "outputs": [
    {
     "name": "stdout",
     "output_type": "stream",
     "text": [
      "I Accept your proposal!\n",
      "I Reject your proposal!\n"
     ]
    }
   ],
   "source": [
    "# 8.  Write a program to demonstrate the use of logical operators.\n",
    "\n",
    "print(\"I Reject your proposal!\" if 1 > 2 and 3 < 2 else \"I Accept your proposal!\")\n",
    "\n",
    "print(\"I Reject your proposal!\" if 12 < 2 or 3 > 2 else \"I Accept your proposal!\")"
   ]
  },
  {
   "cell_type": "code",
   "execution_count": 14,
   "metadata": {},
   "outputs": [
    {
     "name": "stdout",
     "output_type": "stream",
     "text": [
      "Integer : 1\n",
      "Float : 1.0\n",
      "Boolean : True\n"
     ]
    }
   ],
   "source": [
    "# 9.  Write a Python program to convert user input from string to integer, float, and boolean types\n",
    "\n",
    "value = input()\n",
    "\n",
    "print(f\"Integer : {int(value)}\")\n",
    "\n",
    "print(f\"Float : {float(value)}\")\n",
    "\n",
    "print(f\"Boolean : {bool(value)}\")"
   ]
  },
  {
   "cell_type": "code",
   "execution_count": 19,
   "metadata": {},
   "outputs": [
    {
     "name": "stdout",
     "output_type": "stream",
     "text": [
      "(1, 2, 3, 4, 5)\n",
      "[1.0, 2.0, 3.0, 4.0, 5.0]\n"
     ]
    }
   ],
   "source": [
    "# 10.  Write code to demonstrate type casting with list elements\n",
    "\n",
    "l = [1, 2, 3, 4, 5]\n",
    "\n",
    "# type 1\n",
    "\n",
    "print(tuple(l))\n",
    "\n",
    "# type 2\n",
    "\n",
    "print(list(map(lambda x: float(x), l)))\n"
   ]
  },
  {
   "cell_type": "code",
   "execution_count": 22,
   "metadata": {},
   "outputs": [
    {
     "name": "stdout",
     "output_type": "stream",
     "text": [
      "+ve\n"
     ]
    }
   ],
   "source": [
    "# 11.  Write a program that checks if a number is positive, negative, or zero.\n",
    "\n",
    "num = int(input())\n",
    "\n",
    "if num < 0:\n",
    "  print(\"-ve\")\n",
    "elif num > 0:\n",
    "  print(\"+ve\")\n",
    "else:\n",
    "  print(0)"
   ]
  },
  {
   "cell_type": "code",
   "execution_count": 24,
   "metadata": {},
   "outputs": [
    {
     "name": "stdout",
     "output_type": "stream",
     "text": [
      "1\t2\t3\t4\t5\t6\t7\t8\t9\t10\t"
     ]
    }
   ],
   "source": [
    "# 12.  Write a for loop to print numbers from 1 to 10.\n",
    "\n",
    "for item in range(1, 11, 1):\n",
    "  print(item, end=\"\\t\")"
   ]
  },
  {
   "cell_type": "code",
   "execution_count": 25,
   "metadata": {},
   "outputs": [
    {
     "name": "stdout",
     "output_type": "stream",
     "text": [
      "650\n"
     ]
    }
   ],
   "source": [
    "# 13.  Write a Python program to find the sum of all even numbers between 1 and 50.\n",
    "\n",
    "s = 0\n",
    "\n",
    "for item in range(2, 51, 2):\n",
    "  s+=item\n",
    "\n",
    "print(s)"
   ]
  },
  {
   "cell_type": "code",
   "execution_count": 35,
   "metadata": {},
   "outputs": [
    {
     "name": "stdout",
     "output_type": "stream",
     "text": [
      "karamS\n"
     ]
    }
   ],
   "source": [
    "# 14. Write a program to reverse a string using a while loop.\n",
    "\n",
    "string = input()\n",
    "\n",
    "index = len(string) - 1\n",
    "\n",
    "string_rev = ''\n",
    "\n",
    "while index >= 0:\n",
    "  string_rev += string[index]\n",
    "  index -= 1\n",
    "\n",
    "print(string_rev)"
   ]
  },
  {
   "cell_type": "code",
   "execution_count": 38,
   "metadata": {},
   "outputs": [
    {
     "name": "stdout",
     "output_type": "stream",
     "text": [
      "120\n"
     ]
    }
   ],
   "source": [
    "# 15.  Write a Python program to calculate the factorial of a number provided by the user using a while loop.\n",
    "\n",
    "f = 1\n",
    "\n",
    "num = int(input())\n",
    "\n",
    "while num != 1:\n",
    "  f *= num\n",
    "  num -= 1\n",
    "\n",
    "print(f)"
   ]
  },
  {
   "cell_type": "markdown",
   "metadata": {},
   "source": [
    "# Thank You"
   ]
  }
 ],
 "metadata": {
  "kernelspec": {
   "display_name": "Python 3",
   "language": "python",
   "name": "python3"
  },
  "language_info": {
   "codemirror_mode": {
    "name": "ipython",
    "version": 3
   },
   "file_extension": ".py",
   "mimetype": "text/x-python",
   "name": "python",
   "nbconvert_exporter": "python",
   "pygments_lexer": "ipython3",
   "version": "3.12.4"
  }
 },
 "nbformat": 4,
 "nbformat_minor": 2
}
